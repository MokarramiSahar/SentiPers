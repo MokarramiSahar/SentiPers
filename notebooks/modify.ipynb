{
 "cells": [
  {
   "cell_type": "markdown",
   "metadata": {},
   "source": [
    "## Updating SentiPers\n",
    "We have provided this notebook to enable you make changes to SentiPers's entries if necessary. For example, if you think a different polarity label should be assigned to a sentence, you can use this notebook interactively to update the polarity label."
   ]
  },
  {
   "cell_type": "markdown",
   "metadata": {},
   "source": [
    "<div dir=\"rtl\">در این صفحه امکان بروزرسانی اطلاعات سنتی پرس فراهم شده است. به عنوان مثال این احتمال وجود دارد که برچسب احساس یک جمله به نظر شما درست نباشد. در چنین مواردی میتوانید به راحتی برچسب یا برچسب های مورد نظر را بروزرسانی و تغییرات را ذخیره نمایید. مشارکت شما در اصلاح برچسبهای سنتی پرس بسیار ارزشمند خواهد بود.\n",
    "</div>\n",
    "\n",
    "\n",
    "<div dir=\"rtl\">\n",
    "همچنین اگر فکر میکنید راه بهتری برای بروزرسانی اطلاعات میتواند در نظر گرفته شود، خوشحال میشویم که ما را در جریان بگذارید. هدف اصلی در این مرحله اصلاح برچسبهای احساس است که به صورت دستی و توسط نشانه گذارها به جملات اختصاص داده شده اند.</div>"
   ]
  },
  {
   "cell_type": "code",
   "execution_count": 1,
   "metadata": {},
   "outputs": [],
   "source": [
    "import os\n",
    "import sys\n",
    "\n",
    "# adding classes folder to system path\n",
    "sys.path.insert(0, os.path.abspath('..') + '/src')\n",
    "\n",
    "from sentipers import SentiPers\n",
    "from os import path\n",
    "\n",
    "import pandas as pd\n",
    "import qgrid"
   ]
  },
  {
   "cell_type": "markdown",
   "metadata": {},
   "source": [
    "### Step [1]: Loading SentiPers data"
   ]
  },
  {
   "cell_type": "code",
   "execution_count": 2,
   "metadata": {},
   "outputs": [],
   "source": [
    "sentipers = SentiPers()\n",
    "\n",
    "# check if the workbook exists, create it, otherwise.\n",
    "if not path.exists(sentipers.sentipers_path):\n",
    "    sentipers.sentipers_to_excel()\n",
    "\n",
    "df = pd.read_excel(sentipers.sentipers_path)\n",
    "qgrid_widget = qgrid.show_grid(df, show_toolbar=True)"
   ]
  },
  {
   "cell_type": "markdown",
   "metadata": {},
   "source": [
    "### Step [2]: Run the following cell to show data"
   ]
  },
  {
   "cell_type": "code",
   "execution_count": 3,
   "metadata": {},
   "outputs": [
    {
     "data": {
      "application/vnd.jupyter.widget-view+json": {
       "model_id": "95210bfdc22c46eaaf6bc3057032fbfb",
       "version_major": 2,
       "version_minor": 0
      },
      "text/plain": [
       "QgridWidget(grid_options={'fullWidthRows': True, 'syncColumnCellResize': True, 'forceFitColumns': True, 'defau…"
      ]
     },
     "metadata": {},
     "output_type": "display_data"
    },
    {
     "data": {
      "application/vnd.jupyter.widget-view+json": {
       "model_id": "95210bfdc22c46eaaf6bc3057032fbfb",
       "version_major": 2,
       "version_minor": 0
      },
      "text/plain": [
       "QgridWidget(grid_options={'fullWidthRows': True, 'syncColumnCellResize': True, 'forceFitColumns': True, 'defau…"
      ]
     },
     "metadata": {},
     "output_type": "display_data"
    }
   ],
   "source": [
    "qgrid_widget"
   ]
  },
  {
   "cell_type": "markdown",
   "metadata": {},
   "source": [
    "### Step [3]: Run the following cell to save changes"
   ]
  },
  {
   "cell_type": "code",
   "execution_count": 7,
   "metadata": {},
   "outputs": [],
   "source": [
    "qgrid_widget.get_changed_df().to_excel(obj.sentipers_path, header=True, index=False, encoding='utf8')"
   ]
  }
 ],
 "metadata": {
  "kernelspec": {
   "display_name": "sentipers-env",
   "language": "python",
   "name": "sentipers-env"
  },
  "language_info": {
   "codemirror_mode": {
    "name": "ipython",
    "version": 3
   },
   "file_extension": ".py",
   "mimetype": "text/x-python",
   "name": "python",
   "nbconvert_exporter": "python",
   "pygments_lexer": "ipython3",
   "version": "3.6.10"
  }
 },
 "nbformat": 4,
 "nbformat_minor": 2
}
