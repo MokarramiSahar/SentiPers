{
 "cells": [
  {
   "cell_type": "markdown",
   "metadata": {},
   "source": [
    "## SentiPers API\n",
    "\n",
    "In this notebook, we demostrate how you can use some of the helper methods provided in the SentiPers class. We want to make using SentiPers easier as much as possible. If you think any helper method could be added to this collection, please let us know. We highly appreciate any feedback or input. "
   ]
  },
  {
   "cell_type": "markdown",
   "metadata": {},
   "source": [
    "<div dir=\"rtl\">\n",
    "در این صفحه نحوه استفاده از توابعی که در کلاس سنتی پرس آمده اند نشان داده شده است. هدف از ایجاد این توابع استفاده آسانتر از اطلاعات موجود در سنتی پرس است. چنانچه فکر میکنید تابع یا کلاسی میتواند به این مجموعه اضافه شود، بسیار ممنون خواهیم شد که ما را در جریان بگذارید.\n",
    "</div>"
   ]
  },
  {
   "cell_type": "code",
   "execution_count": 1,
   "metadata": {},
   "outputs": [],
   "source": [
    "import os\n",
    "import sys\n",
    "\n",
    "# adding classes folder to system path\n",
    "sys.path.insert(0, os.path.abspath('..') + '/src')\n",
    "\n",
    "from sentipers import SentiPers"
   ]
  },
  {
   "cell_type": "code",
   "execution_count": 2,
   "metadata": {},
   "outputs": [],
   "source": [
    "sentipers = SentiPers()"
   ]
  },
  {
   "cell_type": "markdown",
   "metadata": {},
   "source": [
    "### Reading sentences in main folder"
   ]
  },
  {
   "cell_type": "code",
   "execution_count": 3,
   "metadata": {},
   "outputs": [],
   "source": [
    "df = sentipers.read_sentences_main()"
   ]
  },
  {
   "cell_type": "code",
   "execution_count": 4,
   "metadata": {},
   "outputs": [
    {
     "data": {
      "text/html": [
       "<div>\n",
       "<style scoped>\n",
       "    .dataframe tbody tr th:only-of-type {\n",
       "        vertical-align: middle;\n",
       "    }\n",
       "\n",
       "    .dataframe tbody tr th {\n",
       "        vertical-align: top;\n",
       "    }\n",
       "\n",
       "    .dataframe thead th {\n",
       "        text-align: right;\n",
       "    }\n",
       "</style>\n",
       "<table border=\"1\" class=\"dataframe\">\n",
       "  <thead>\n",
       "    <tr style=\"text-align: right;\">\n",
       "      <th></th>\n",
       "      <th>index</th>\n",
       "      <th>sid</th>\n",
       "      <th>text</th>\n",
       "      <th>polarity</th>\n",
       "      <th>file</th>\n",
       "    </tr>\n",
       "  </thead>\n",
       "  <tbody>\n",
       "    <tr>\n",
       "      <th>0</th>\n",
       "      <td>0</td>\n",
       "      <td>rev-1</td>\n",
       "      <td>اینک قصد داریم پرینتر دیگری از پرینترهای لیزری...</td>\n",
       "      <td>0</td>\n",
       "      <td>../data/main/HP LaserJet M1132.xml</td>\n",
       "    </tr>\n",
       "    <tr>\n",
       "      <th>1</th>\n",
       "      <td>1</td>\n",
       "      <td>rev-2</td>\n",
       "      <td>پرینتری چند کاره از رده‌ی Entry Level یا سطح م...</td>\n",
       "      <td>0</td>\n",
       "      <td>../data/main/HP LaserJet M1132.xml</td>\n",
       "    </tr>\n",
       "    <tr>\n",
       "      <th>2</th>\n",
       "      <td>2</td>\n",
       "      <td>rev-3</td>\n",
       "      <td>به هر صورت اکنون ما در دنیایی زندگی می‌کنیم،  ...</td>\n",
       "      <td>0</td>\n",
       "      <td>../data/main/HP LaserJet M1132.xml</td>\n",
       "    </tr>\n",
       "    <tr>\n",
       "      <th>3</th>\n",
       "      <td>3</td>\n",
       "      <td>rev-4</td>\n",
       "      <td>به صورتی که توانایی کپی کردن،  اسکن،  فکس،  پر...</td>\n",
       "      <td>0</td>\n",
       "      <td>../data/main/HP LaserJet M1132.xml</td>\n",
       "    </tr>\n",
       "    <tr>\n",
       "      <th>4</th>\n",
       "      <td>4</td>\n",
       "      <td>rev-5</td>\n",
       "      <td>به هر صورت معمولا چیزی که بیشتر کاربران از پری...</td>\n",
       "      <td>+2</td>\n",
       "      <td>../data/main/HP LaserJet M1132.xml</td>\n",
       "    </tr>\n",
       "  </tbody>\n",
       "</table>\n",
       "</div>"
      ],
      "text/plain": [
       "   index    sid                                               text polarity  \\\n",
       "0      0  rev-1  اینک قصد داریم پرینتر دیگری از پرینترهای لیزری...        0   \n",
       "1      1  rev-2  پرینتری چند کاره از رده‌ی Entry Level یا سطح م...        0   \n",
       "2      2  rev-3  به هر صورت اکنون ما در دنیایی زندگی می‌کنیم،  ...        0   \n",
       "3      3  rev-4  به صورتی که توانایی کپی کردن،  اسکن،  فکس،  پر...        0   \n",
       "4      4  rev-5  به هر صورت معمولا چیزی که بیشتر کاربران از پری...       +2   \n",
       "\n",
       "                                 file  \n",
       "0  ../data/main/HP LaserJet M1132.xml  \n",
       "1  ../data/main/HP LaserJet M1132.xml  \n",
       "2  ../data/main/HP LaserJet M1132.xml  \n",
       "3  ../data/main/HP LaserJet M1132.xml  \n",
       "4  ../data/main/HP LaserJet M1132.xml  "
      ]
     },
     "execution_count": 4,
     "metadata": {},
     "output_type": "execute_result"
    }
   ],
   "source": [
    "df.head()"
   ]
  },
  {
   "cell_type": "code",
   "execution_count": 5,
   "metadata": {},
   "outputs": [
    {
     "data": {
      "text/plain": [
       "6876"
      ]
     },
     "execution_count": 5,
     "metadata": {},
     "output_type": "execute_result"
    }
   ],
   "source": [
    "len(df)"
   ]
  },
  {
   "cell_type": "markdown",
   "metadata": {},
   "source": [
    "### Reading sentences in extra folder"
   ]
  },
  {
   "cell_type": "code",
   "execution_count": 6,
   "metadata": {},
   "outputs": [],
   "source": [
    "df = sentipers.read_sentences_extra()"
   ]
  },
  {
   "cell_type": "code",
   "execution_count": 7,
   "metadata": {},
   "outputs": [
    {
     "data": {
      "text/html": [
       "<div>\n",
       "<style scoped>\n",
       "    .dataframe tbody tr th:only-of-type {\n",
       "        vertical-align: middle;\n",
       "    }\n",
       "\n",
       "    .dataframe tbody tr th {\n",
       "        vertical-align: top;\n",
       "    }\n",
       "\n",
       "    .dataframe thead th {\n",
       "        text-align: right;\n",
       "    }\n",
       "</style>\n",
       "<table border=\"1\" class=\"dataframe\">\n",
       "  <thead>\n",
       "    <tr style=\"text-align: right;\">\n",
       "      <th></th>\n",
       "      <th>index</th>\n",
       "      <th>sid</th>\n",
       "      <th>text</th>\n",
       "      <th>polarity</th>\n",
       "      <th>file</th>\n",
       "    </tr>\n",
       "  </thead>\n",
       "  <tbody>\n",
       "    <tr>\n",
       "      <th>0</th>\n",
       "      <td>0</td>\n",
       "      <td>-</td>\n",
       "      <td>من هم با نظر آقا کوروش موافقم.</td>\n",
       "      <td>0</td>\n",
       "      <td>../data/extra/Fujifilm Finepix HS25 EXR.xml</td>\n",
       "    </tr>\n",
       "    <tr>\n",
       "      <th>1</th>\n",
       "      <td>1</td>\n",
       "      <td>-</td>\n",
       "      <td>امکانات اين دوربين بسيار راضي کنندست.</td>\n",
       "      <td>+1</td>\n",
       "      <td>../data/extra/Fujifilm Finepix HS25 EXR.xml</td>\n",
       "    </tr>\n",
       "    <tr>\n",
       "      <th>2</th>\n",
       "      <td>2</td>\n",
       "      <td>-</td>\n",
       "      <td>من چند روزي ميشه از ديجي کالا خريداري کردم.</td>\n",
       "      <td>0</td>\n",
       "      <td>../data/extra/Fujifilm Finepix HS25 EXR.xml</td>\n",
       "    </tr>\n",
       "    <tr>\n",
       "      <th>3</th>\n",
       "      <td>3</td>\n",
       "      <td>-</td>\n",
       "      <td>زبان فارسي رو هم خوب ساپورت ميکنه و من مشکلي ن...</td>\n",
       "      <td>0</td>\n",
       "      <td>../data/extra/Fujifilm Finepix HS25 EXR.xml</td>\n",
       "    </tr>\n",
       "    <tr>\n",
       "      <th>4</th>\n",
       "      <td>4</td>\n",
       "      <td>-</td>\n",
       "      <td>فيلم برداريشم خوبه با توجه به اينکه دوربين عکا...</td>\n",
       "      <td>0</td>\n",
       "      <td>../data/extra/Fujifilm Finepix HS25 EXR.xml</td>\n",
       "    </tr>\n",
       "  </tbody>\n",
       "</table>\n",
       "</div>"
      ],
      "text/plain": [
       "   index sid                                               text polarity  \\\n",
       "0      0   -                     من هم با نظر آقا کوروش موافقم.        0   \n",
       "1      1   -              امکانات اين دوربين بسيار راضي کنندست.       +1   \n",
       "2      2   -        من چند روزي ميشه از ديجي کالا خريداري کردم.        0   \n",
       "3      3   -  زبان فارسي رو هم خوب ساپورت ميکنه و من مشکلي ن...        0   \n",
       "4      4   -  فيلم برداريشم خوبه با توجه به اينکه دوربين عکا...        0   \n",
       "\n",
       "                                          file  \n",
       "0  ../data/extra/Fujifilm Finepix HS25 EXR.xml  \n",
       "1  ../data/extra/Fujifilm Finepix HS25 EXR.xml  \n",
       "2  ../data/extra/Fujifilm Finepix HS25 EXR.xml  \n",
       "3  ../data/extra/Fujifilm Finepix HS25 EXR.xml  \n",
       "4  ../data/extra/Fujifilm Finepix HS25 EXR.xml  "
      ]
     },
     "execution_count": 7,
     "metadata": {},
     "output_type": "execute_result"
    }
   ],
   "source": [
    "df.head()"
   ]
  },
  {
   "cell_type": "code",
   "execution_count": 8,
   "metadata": {},
   "outputs": [
    {
     "data": {
      "text/plain": [
       "8807"
      ]
     },
     "execution_count": 8,
     "metadata": {},
     "output_type": "execute_result"
    }
   ],
   "source": [
    "len(df)"
   ]
  },
  {
   "cell_type": "markdown",
   "metadata": {},
   "source": [
    "### Reading sentences from SentiPers excel file"
   ]
  },
  {
   "cell_type": "code",
   "execution_count": 9,
   "metadata": {},
   "outputs": [],
   "source": [
    "from os import path\n",
    "import pandas as pd\n",
    "\n",
    "# check if the excel file exists, create it, otherwise.\n",
    "if not path.exists(sentipers.sentipers_path):\n",
    "    # this may take a few seconds, be patient!\n",
    "    sentipers.sentipers_to_excel()\n",
    "\n",
    "df = pd.read_excel(sentipers.sentipers_path)"
   ]
  },
  {
   "cell_type": "code",
   "execution_count": 10,
   "metadata": {},
   "outputs": [
    {
     "data": {
      "text/html": [
       "<div>\n",
       "<style scoped>\n",
       "    .dataframe tbody tr th:only-of-type {\n",
       "        vertical-align: middle;\n",
       "    }\n",
       "\n",
       "    .dataframe tbody tr th {\n",
       "        vertical-align: top;\n",
       "    }\n",
       "\n",
       "    .dataframe thead th {\n",
       "        text-align: right;\n",
       "    }\n",
       "</style>\n",
       "<table border=\"1\" class=\"dataframe\">\n",
       "  <thead>\n",
       "    <tr style=\"text-align: right;\">\n",
       "      <th></th>\n",
       "      <th>index</th>\n",
       "      <th>sid</th>\n",
       "      <th>text</th>\n",
       "      <th>polarity</th>\n",
       "      <th>file</th>\n",
       "    </tr>\n",
       "  </thead>\n",
       "  <tbody>\n",
       "    <tr>\n",
       "      <th>0</th>\n",
       "      <td>0</td>\n",
       "      <td>rev-1</td>\n",
       "      <td>اینک قصد داریم پرینتر دیگری از پرینترهای لیزری...</td>\n",
       "      <td>0</td>\n",
       "      <td>data/main/HP LaserJet M1132.xml</td>\n",
       "    </tr>\n",
       "    <tr>\n",
       "      <th>1</th>\n",
       "      <td>1</td>\n",
       "      <td>rev-2</td>\n",
       "      <td>پرینتری چند کاره از رده‌ی Entry Level یا سطح م...</td>\n",
       "      <td>0</td>\n",
       "      <td>data/main/HP LaserJet M1132.xml</td>\n",
       "    </tr>\n",
       "    <tr>\n",
       "      <th>2</th>\n",
       "      <td>2</td>\n",
       "      <td>rev-3</td>\n",
       "      <td>به هر صورت اکنون ما در دنیایی زندگی می‌کنیم،  ...</td>\n",
       "      <td>0</td>\n",
       "      <td>data/main/HP LaserJet M1132.xml</td>\n",
       "    </tr>\n",
       "    <tr>\n",
       "      <th>3</th>\n",
       "      <td>3</td>\n",
       "      <td>rev-4</td>\n",
       "      <td>به صورتی که توانایی کپی کردن،  اسکن،  فکس،  پر...</td>\n",
       "      <td>0</td>\n",
       "      <td>data/main/HP LaserJet M1132.xml</td>\n",
       "    </tr>\n",
       "    <tr>\n",
       "      <th>4</th>\n",
       "      <td>4</td>\n",
       "      <td>rev-5</td>\n",
       "      <td>به هر صورت معمولا چیزی که بیشتر کاربران از پری...</td>\n",
       "      <td>2</td>\n",
       "      <td>data/main/HP LaserJet M1132.xml</td>\n",
       "    </tr>\n",
       "  </tbody>\n",
       "</table>\n",
       "</div>"
      ],
      "text/plain": [
       "   index    sid                                               text  polarity  \\\n",
       "0      0  rev-1  اینک قصد داریم پرینتر دیگری از پرینترهای لیزری...         0   \n",
       "1      1  rev-2  پرینتری چند کاره از رده‌ی Entry Level یا سطح م...         0   \n",
       "2      2  rev-3  به هر صورت اکنون ما در دنیایی زندگی می‌کنیم،  ...         0   \n",
       "3      3  rev-4  به صورتی که توانایی کپی کردن،  اسکن،  فکس،  پر...         0   \n",
       "4      4  rev-5  به هر صورت معمولا چیزی که بیشتر کاربران از پری...         2   \n",
       "\n",
       "                              file  \n",
       "0  data/main/HP LaserJet M1132.xml  \n",
       "1  data/main/HP LaserJet M1132.xml  \n",
       "2  data/main/HP LaserJet M1132.xml  \n",
       "3  data/main/HP LaserJet M1132.xml  \n",
       "4  data/main/HP LaserJet M1132.xml  "
      ]
     },
     "execution_count": 10,
     "metadata": {},
     "output_type": "execute_result"
    }
   ],
   "source": [
    "df.head()"
   ]
  },
  {
   "cell_type": "code",
   "execution_count": 11,
   "metadata": {},
   "outputs": [
    {
     "name": "stdout",
     "output_type": "stream",
     "text": [
      "sentence id:  rev-1\n",
      "sentence text:  اینک قصد داریم پرینتر دیگری از پرینترهای لیزری کمپانی Hp را معرفی کنیم.\n",
      "sentence polarity:  0\n"
     ]
    }
   ],
   "source": [
    "for index, row in df.iterrows():\n",
    "    # printing columns by name\n",
    "    print(\"sentence id: \", row.sid)\n",
    "    print(\"sentence text: \", row.text)\n",
    "    print(\"sentence polarity: \", row.polarity)\n",
    "    # remove the break if you want to go through all rows\n",
    "    break"
   ]
  },
  {
   "cell_type": "code",
   "execution_count": null,
   "metadata": {},
   "outputs": [],
   "source": []
  }
 ],
 "metadata": {
  "kernelspec": {
   "display_name": "sentipers-env",
   "language": "python",
   "name": "sentipers-env"
  },
  "language_info": {
   "codemirror_mode": {
    "name": "ipython",
    "version": 3
   },
   "file_extension": ".py",
   "mimetype": "text/x-python",
   "name": "python",
   "nbconvert_exporter": "python",
   "pygments_lexer": "ipython3",
   "version": "3.6.10"
  }
 },
 "nbformat": 4,
 "nbformat_minor": 2
}
