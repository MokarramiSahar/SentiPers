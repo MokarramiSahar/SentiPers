{
 "cells": [
  {
   "cell_type": "markdown",
   "metadata": {},
   "source": [
    "## SentiPers API"
   ]
  },
  {
   "cell_type": "code",
   "execution_count": 1,
   "metadata": {},
   "outputs": [],
   "source": [
    "from sentipers import SentiPers"
   ]
  },
  {
   "cell_type": "code",
   "execution_count": 2,
   "metadata": {},
   "outputs": [],
   "source": [
    "obj = SentiPers()"
   ]
  },
  {
   "cell_type": "markdown",
   "metadata": {},
   "source": [
    "### Reading sentences in main folder"
   ]
  },
  {
   "cell_type": "code",
   "execution_count": 3,
   "metadata": {},
   "outputs": [],
   "source": [
    "df = obj.read_sentences()"
   ]
  },
  {
   "cell_type": "code",
   "execution_count": 4,
   "metadata": {},
   "outputs": [
    {
     "data": {
      "text/html": [
       "<div>\n",
       "<style scoped>\n",
       "    .dataframe tbody tr th:only-of-type {\n",
       "        vertical-align: middle;\n",
       "    }\n",
       "\n",
       "    .dataframe tbody tr th {\n",
       "        vertical-align: top;\n",
       "    }\n",
       "\n",
       "    .dataframe thead th {\n",
       "        text-align: right;\n",
       "    }\n",
       "</style>\n",
       "<table border=\"1\" class=\"dataframe\">\n",
       "  <thead>\n",
       "    <tr style=\"text-align: right;\">\n",
       "      <th></th>\n",
       "      <th>index</th>\n",
       "      <th>sid</th>\n",
       "      <th>text</th>\n",
       "      <th>polarity</th>\n",
       "      <th>file</th>\n",
       "    </tr>\n",
       "  </thead>\n",
       "  <tbody>\n",
       "    <tr>\n",
       "      <th>0</th>\n",
       "      <td>0</td>\n",
       "      <td>rev-1</td>\n",
       "      <td>اینک قصد داریم پرینتر دیگری از پرینترهای لیزری...</td>\n",
       "      <td>0</td>\n",
       "      <td>data/main/HP LaserJet M1132.xml</td>\n",
       "    </tr>\n",
       "    <tr>\n",
       "      <th>1</th>\n",
       "      <td>1</td>\n",
       "      <td>rev-2</td>\n",
       "      <td>پرینتری چند کاره از رده‌ی Entry Level یا سطح م...</td>\n",
       "      <td>0</td>\n",
       "      <td>data/main/HP LaserJet M1132.xml</td>\n",
       "    </tr>\n",
       "    <tr>\n",
       "      <th>2</th>\n",
       "      <td>2</td>\n",
       "      <td>rev-3</td>\n",
       "      <td>به هر صورت اکنون ما در دنیایی زندگی می‌کنیم،  ...</td>\n",
       "      <td>0</td>\n",
       "      <td>data/main/HP LaserJet M1132.xml</td>\n",
       "    </tr>\n",
       "    <tr>\n",
       "      <th>3</th>\n",
       "      <td>3</td>\n",
       "      <td>rev-4</td>\n",
       "      <td>به صورتی که توانایی کپی کردن،  اسکن،  فکس،  پر...</td>\n",
       "      <td>0</td>\n",
       "      <td>data/main/HP LaserJet M1132.xml</td>\n",
       "    </tr>\n",
       "    <tr>\n",
       "      <th>4</th>\n",
       "      <td>4</td>\n",
       "      <td>rev-5</td>\n",
       "      <td>به هر صورت معمولا چیزی که بیشتر کاربران از پری...</td>\n",
       "      <td>+2</td>\n",
       "      <td>data/main/HP LaserJet M1132.xml</td>\n",
       "    </tr>\n",
       "  </tbody>\n",
       "</table>\n",
       "</div>"
      ],
      "text/plain": [
       "   index    sid                                               text polarity  \\\n",
       "0      0  rev-1  اینک قصد داریم پرینتر دیگری از پرینترهای لیزری...        0   \n",
       "1      1  rev-2  پرینتری چند کاره از رده‌ی Entry Level یا سطح م...        0   \n",
       "2      2  rev-3  به هر صورت اکنون ما در دنیایی زندگی می‌کنیم،  ...        0   \n",
       "3      3  rev-4  به صورتی که توانایی کپی کردن،  اسکن،  فکس،  پر...        0   \n",
       "4      4  rev-5  به هر صورت معمولا چیزی که بیشتر کاربران از پری...       +2   \n",
       "\n",
       "                              file  \n",
       "0  data/main/HP LaserJet M1132.xml  \n",
       "1  data/main/HP LaserJet M1132.xml  \n",
       "2  data/main/HP LaserJet M1132.xml  \n",
       "3  data/main/HP LaserJet M1132.xml  \n",
       "4  data/main/HP LaserJet M1132.xml  "
      ]
     },
     "execution_count": 4,
     "metadata": {},
     "output_type": "execute_result"
    }
   ],
   "source": [
    "df.head()"
   ]
  },
  {
   "cell_type": "code",
   "execution_count": 5,
   "metadata": {},
   "outputs": [
    {
     "data": {
      "text/plain": [
       "6876"
      ]
     },
     "execution_count": 5,
     "metadata": {},
     "output_type": "execute_result"
    }
   ],
   "source": [
    "len(df)"
   ]
  },
  {
   "cell_type": "markdown",
   "metadata": {},
   "source": [
    "### Reading sentences in extra folder"
   ]
  },
  {
   "cell_type": "code",
   "execution_count": 6,
   "metadata": {},
   "outputs": [],
   "source": [
    "df = obj.read_sentences_extra()"
   ]
  },
  {
   "cell_type": "code",
   "execution_count": 7,
   "metadata": {},
   "outputs": [
    {
     "data": {
      "text/html": [
       "<div>\n",
       "<style scoped>\n",
       "    .dataframe tbody tr th:only-of-type {\n",
       "        vertical-align: middle;\n",
       "    }\n",
       "\n",
       "    .dataframe tbody tr th {\n",
       "        vertical-align: top;\n",
       "    }\n",
       "\n",
       "    .dataframe thead th {\n",
       "        text-align: right;\n",
       "    }\n",
       "</style>\n",
       "<table border=\"1\" class=\"dataframe\">\n",
       "  <thead>\n",
       "    <tr style=\"text-align: right;\">\n",
       "      <th></th>\n",
       "      <th>index</th>\n",
       "      <th>sid</th>\n",
       "      <th>text</th>\n",
       "      <th>polarity</th>\n",
       "      <th>file</th>\n",
       "    </tr>\n",
       "  </thead>\n",
       "  <tbody>\n",
       "    <tr>\n",
       "      <th>0</th>\n",
       "      <td>0</td>\n",
       "      <td></td>\n",
       "      <td>من هم با نظر آقا کوروش موافقم.</td>\n",
       "      <td>0</td>\n",
       "      <td>data/extra/Fujifilm Finepix HS25 EXR.xml</td>\n",
       "    </tr>\n",
       "    <tr>\n",
       "      <th>1</th>\n",
       "      <td>1</td>\n",
       "      <td></td>\n",
       "      <td>امکانات اين دوربين بسيار راضي کنندست.</td>\n",
       "      <td>+1</td>\n",
       "      <td>data/extra/Fujifilm Finepix HS25 EXR.xml</td>\n",
       "    </tr>\n",
       "    <tr>\n",
       "      <th>2</th>\n",
       "      <td>2</td>\n",
       "      <td></td>\n",
       "      <td>من چند روزي ميشه از ديجي کالا خريداري کردم.</td>\n",
       "      <td>0</td>\n",
       "      <td>data/extra/Fujifilm Finepix HS25 EXR.xml</td>\n",
       "    </tr>\n",
       "    <tr>\n",
       "      <th>3</th>\n",
       "      <td>3</td>\n",
       "      <td></td>\n",
       "      <td>زبان فارسي رو هم خوب ساپورت ميکنه و من مشکلي ن...</td>\n",
       "      <td>0</td>\n",
       "      <td>data/extra/Fujifilm Finepix HS25 EXR.xml</td>\n",
       "    </tr>\n",
       "    <tr>\n",
       "      <th>4</th>\n",
       "      <td>4</td>\n",
       "      <td></td>\n",
       "      <td>فيلم برداريشم خوبه با توجه به اينکه دوربين عکا...</td>\n",
       "      <td>0</td>\n",
       "      <td>data/extra/Fujifilm Finepix HS25 EXR.xml</td>\n",
       "    </tr>\n",
       "  </tbody>\n",
       "</table>\n",
       "</div>"
      ],
      "text/plain": [
       "   index sid                                               text polarity  \\\n",
       "0      0                         من هم با نظر آقا کوروش موافقم.        0   \n",
       "1      1                  امکانات اين دوربين بسيار راضي کنندست.       +1   \n",
       "2      2            من چند روزي ميشه از ديجي کالا خريداري کردم.        0   \n",
       "3      3      زبان فارسي رو هم خوب ساپورت ميکنه و من مشکلي ن...        0   \n",
       "4      4      فيلم برداريشم خوبه با توجه به اينکه دوربين عکا...        0   \n",
       "\n",
       "                                       file  \n",
       "0  data/extra/Fujifilm Finepix HS25 EXR.xml  \n",
       "1  data/extra/Fujifilm Finepix HS25 EXR.xml  \n",
       "2  data/extra/Fujifilm Finepix HS25 EXR.xml  \n",
       "3  data/extra/Fujifilm Finepix HS25 EXR.xml  \n",
       "4  data/extra/Fujifilm Finepix HS25 EXR.xml  "
      ]
     },
     "execution_count": 7,
     "metadata": {},
     "output_type": "execute_result"
    }
   ],
   "source": [
    "df.head()"
   ]
  },
  {
   "cell_type": "code",
   "execution_count": 8,
   "metadata": {},
   "outputs": [
    {
     "data": {
      "text/plain": [
       "8807"
      ]
     },
     "execution_count": 8,
     "metadata": {},
     "output_type": "execute_result"
    }
   ],
   "source": [
    "len(df)"
   ]
  },
  {
   "cell_type": "code",
   "execution_count": null,
   "metadata": {},
   "outputs": [],
   "source": []
  }
 ],
 "metadata": {
  "kernelspec": {
   "display_name": "Python 3",
   "language": "python",
   "name": "python3"
  },
  "language_info": {
   "codemirror_mode": {
    "name": "ipython",
    "version": 3
   },
   "file_extension": ".py",
   "mimetype": "text/x-python",
   "name": "python",
   "nbconvert_exporter": "python",
   "pygments_lexer": "ipython3",
   "version": "3.7.2"
  }
 },
 "nbformat": 4,
 "nbformat_minor": 2
}
