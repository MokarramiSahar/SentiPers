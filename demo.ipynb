{
 "cells": [
  {
   "cell_type": "markdown",
   "metadata": {},
   "source": [
    "## SentiPers API"
   ]
  },
  {
   "cell_type": "code",
   "execution_count": 1,
   "metadata": {},
   "outputs": [],
   "source": [
    "from sentipers import SentiPers"
   ]
  },
  {
   "cell_type": "code",
   "execution_count": 2,
   "metadata": {},
   "outputs": [],
   "source": [
    "obj = SentiPers()"
   ]
  },
  {
   "cell_type": "code",
   "execution_count": 3,
   "metadata": {},
   "outputs": [],
   "source": [
    "df = obj.read_sentences(polarity=[\"+1\", \"-1\"])"
   ]
  },
  {
   "cell_type": "code",
   "execution_count": 4,
   "metadata": {},
   "outputs": [
    {
     "data": {
      "text/html": [
       "<div>\n",
       "<style scoped>\n",
       "    .dataframe tbody tr th:only-of-type {\n",
       "        vertical-align: middle;\n",
       "    }\n",
       "\n",
       "    .dataframe tbody tr th {\n",
       "        vertical-align: top;\n",
       "    }\n",
       "\n",
       "    .dataframe thead th {\n",
       "        text-align: right;\n",
       "    }\n",
       "</style>\n",
       "<table border=\"1\" class=\"dataframe\">\n",
       "  <thead>\n",
       "    <tr style=\"text-align: right;\">\n",
       "      <th></th>\n",
       "      <th>sid</th>\n",
       "      <th>text</th>\n",
       "      <th>polarity</th>\n",
       "      <th>file</th>\n",
       "    </tr>\n",
       "  </thead>\n",
       "  <tbody>\n",
       "    <tr>\n",
       "      <th>0</th>\n",
       "      <td>rev-7</td>\n",
       "      <td>M1132 نیز پرینتری است که به نظر یکی از بهترین‌...</td>\n",
       "      <td>+1</td>\n",
       "      <td>data/main/HP LaserJet M1132.xml</td>\n",
       "    </tr>\n",
       "    <tr>\n",
       "      <th>1</th>\n",
       "      <td>rev-10</td>\n",
       "      <td>ابعاد آن 415 x 265 x 250 میلی متر می‌باشد و وز...</td>\n",
       "      <td>+1</td>\n",
       "      <td>data/main/HP LaserJet M1132.xml</td>\n",
       "    </tr>\n",
       "    <tr>\n",
       "      <th>2</th>\n",
       "      <td>rev-17</td>\n",
       "      <td>Hp زمان راه اندازی و Setup را با استفاده از فن...</td>\n",
       "      <td>+1</td>\n",
       "      <td>data/main/HP LaserJet M1132.xml</td>\n",
       "    </tr>\n",
       "    <tr>\n",
       "      <th>3</th>\n",
       "      <td>rev-20</td>\n",
       "      <td>اگر در همین رزولوشن آن را بر روی Economic mode...</td>\n",
       "      <td>+1</td>\n",
       "      <td>data/main/HP LaserJet M1132.xml</td>\n",
       "    </tr>\n",
       "    <tr>\n",
       "      <th>4</th>\n",
       "      <td>rev-21</td>\n",
       "      <td>حتی اگر رزولوشن را به 1200 برسانید هم سرعت به ...</td>\n",
       "      <td>+1</td>\n",
       "      <td>data/main/HP LaserJet M1132.xml</td>\n",
       "    </tr>\n",
       "  </tbody>\n",
       "</table>\n",
       "</div>"
      ],
      "text/plain": [
       "      sid                                               text polarity  \\\n",
       "0   rev-7  M1132 نیز پرینتری است که به نظر یکی از بهترین‌...       +1   \n",
       "1  rev-10  ابعاد آن 415 x 265 x 250 میلی متر می‌باشد و وز...       +1   \n",
       "2  rev-17  Hp زمان راه اندازی و Setup را با استفاده از فن...       +1   \n",
       "3  rev-20  اگر در همین رزولوشن آن را بر روی Economic mode...       +1   \n",
       "4  rev-21  حتی اگر رزولوشن را به 1200 برسانید هم سرعت به ...       +1   \n",
       "\n",
       "                              file  \n",
       "0  data/main/HP LaserJet M1132.xml  \n",
       "1  data/main/HP LaserJet M1132.xml  \n",
       "2  data/main/HP LaserJet M1132.xml  \n",
       "3  data/main/HP LaserJet M1132.xml  \n",
       "4  data/main/HP LaserJet M1132.xml  "
      ]
     },
     "execution_count": 4,
     "metadata": {},
     "output_type": "execute_result"
    }
   ],
   "source": [
    "df.head()"
   ]
  },
  {
   "cell_type": "code",
   "execution_count": 5,
   "metadata": {},
   "outputs": [
    {
     "data": {
      "text/plain": [
       "2887"
      ]
     },
     "execution_count": 5,
     "metadata": {},
     "output_type": "execute_result"
    }
   ],
   "source": [
    "len(df)"
   ]
  },
  {
   "cell_type": "code",
   "execution_count": null,
   "metadata": {},
   "outputs": [],
   "source": []
  }
 ],
 "metadata": {
  "kernelspec": {
   "display_name": "Python 3",
   "language": "python",
   "name": "python3"
  },
  "language_info": {
   "codemirror_mode": {
    "name": "ipython",
    "version": 3
   },
   "file_extension": ".py",
   "mimetype": "text/x-python",
   "name": "python",
   "nbconvert_exporter": "python",
   "pygments_lexer": "ipython3",
   "version": "3.7.2"
  }
 },
 "nbformat": 4,
 "nbformat_minor": 2
}
